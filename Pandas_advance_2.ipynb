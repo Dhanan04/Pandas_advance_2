{
 "cells": [
  {
   "cell_type": "code",
   "execution_count": 1,
   "id": "d4e372f0",
   "metadata": {},
   "outputs": [
    {
     "name": "stdout",
     "output_type": "stream",
     "text": [
      "Data present in the second row of the dataframe:\n",
      "course_name    Machine Learning\n",
      "duration                      3\n",
      "Name: 1, dtype: object\n"
     ]
    }
   ],
   "source": [
    "#Ans1.) \n",
    "\n",
    "import pandas as pd\n",
    "\n",
    "# Given DataFrame\n",
    "course_name = ['Data Science', 'Machine Learning', 'Big Data', 'Data Engineer']\n",
    "duration = [2, 3, 6, 4]\n",
    "df = pd.DataFrame(data={'course_name': course_name, 'duration': duration})\n",
    "\n",
    "#data present in the second row of the dataframe, df.\n",
    "second_row_data = df.iloc[1]\n",
    "print(\"Data present in the second row of the dataframe:\")\n",
    "print(second_row_data)\n"
   ]
  },
  {
   "cell_type": "code",
   "execution_count": null,
   "id": "f54aeb14",
   "metadata": {},
   "outputs": [],
   "source": []
  },
  {
   "cell_type": "markdown",
   "id": "4aabd7b2",
   "metadata": {},
   "source": [
    "#Ans2.)\n",
    "\n",
    "Difference between loc and iloc in pandas.DataFrame:\n",
    "\n",
    "loc is label-based indexing which means that you have to specify rows and columns based on their labels.\n",
    "iloc is integer-based indexing which means that you have to specify rows and columns by their integer index.\n",
    "loc includes the last index, while iloc excludes the last index."
   ]
  },
  {
   "cell_type": "code",
   "execution_count": null,
   "id": "f89d237b",
   "metadata": {},
   "outputs": [],
   "source": []
  },
  {
   "cell_type": "code",
   "execution_count": 2,
   "id": "88c2db3b",
   "metadata": {},
   "outputs": [
    {
     "name": "stdout",
     "output_type": "stream",
     "text": [
      "Output for new_df.loc[2]:\n",
      "course_name    Big Data\n",
      "duration              6\n",
      "Name: 2, dtype: object\n",
      "Output for new_df.iloc[2]:\n",
      "course_name    Machine Learning\n",
      "duration                      3\n",
      "Name: 1, dtype: object\n"
     ]
    }
   ],
   "source": [
    "#Ans3.)\n",
    "\n",
    "reindex = [3, 0, 1, 2]\n",
    "new_df = df.reindex(reindex)\n",
    "print(\"Output for new_df.loc[2]:\")\n",
    "print(new_df.loc[2])\n",
    "print(\"Output for new_df.iloc[2]:\")\n",
    "print(new_df.iloc[2])"
   ]
  },
  {
   "cell_type": "markdown",
   "id": "b21b17bf",
   "metadata": {},
   "source": [
    "new_df.loc[2] uses label-based indexing, so it retrieves the row with the label/index 2.\n",
    "\n",
    "new_df.iloc[2] uses positional indexing, so it retrieves the row at the integer position/index 2."
   ]
  },
  {
   "cell_type": "code",
   "execution_count": null,
   "id": "aa77550f",
   "metadata": {},
   "outputs": [],
   "source": []
  },
  {
   "cell_type": "code",
   "execution_count": 4,
   "id": "06aa21d7",
   "metadata": {},
   "outputs": [],
   "source": [
    "# Given DataFrame\n",
    "import pandas as pd\n",
    "import numpy as np\n",
    "columns = ['column_1', 'column_2', 'column_3', 'column_4', 'column_5', 'column_6']\n",
    "indices = [1, 2, 3, 4, 5, 6]\n",
    "df1 = pd.DataFrame(np.random.rand(6, 6), columns=columns, index=indices)"
   ]
  },
  {
   "cell_type": "code",
   "execution_count": 6,
   "id": "0778a1df",
   "metadata": {},
   "outputs": [
    {
     "name": "stdout",
     "output_type": "stream",
     "text": [
      "Mean of each column in the DataFrame:\n",
      "column_1    0.617921\n",
      "column_2    0.378935\n",
      "column_3    0.552608\n",
      "column_4    0.512273\n",
      "column_5    0.600332\n",
      "column_6    0.556345\n",
      "dtype: float64\n",
      "Standard deviation of column 'column_2': 0.20318737583452823\n"
     ]
    }
   ],
   "source": [
    "#Ans4.)\n",
    "\n",
    "# i)Mean of each and every column present in the dataframe.\n",
    "column_means = df1.mean()\n",
    "print(\"Mean of each column in the DataFrame:\")\n",
    "print(column_means)\n",
    "# (ii) Standard deviation of column 'column_2'\n",
    "column_2_std = df1['column_2'].std()\n",
    "print(\"Standard deviation of column 'column_2':\", column_2_std)"
   ]
  },
  {
   "cell_type": "code",
   "execution_count": null,
   "id": "70fcf20a",
   "metadata": {},
   "outputs": [],
   "source": []
  },
  {
   "cell_type": "code",
   "execution_count": 7,
   "id": "90788e51",
   "metadata": {},
   "outputs": [],
   "source": [
    "#Ans5.)\n",
    "\n",
    "df1.loc[2, 'column_2'] = 'string data'"
   ]
  },
  {
   "cell_type": "code",
   "execution_count": 8,
   "id": "8c214f40",
   "metadata": {},
   "outputs": [
    {
     "name": "stdout",
     "output_type": "stream",
     "text": [
      "Error: unsupported operand type(s) for +: 'float' and 'str'\n",
      "Explanation: The mean cannot be calculated because 'string data' cannot be converted to a numerical value.\n"
     ]
    }
   ],
   "source": [
    "try:\n",
    "    column_2_mean = df1['column_2'].mean()\n",
    "    print(\"Mean of column 'column_2' after replacing data:\", column_2_mean)\n",
    "except Exception as e:\n",
    "    print(\"Error:\", e)\n",
    "    print(\"Explanation: The mean cannot be calculated because 'string data' cannot be converted to a numerical value.\")\n"
   ]
  },
  {
   "cell_type": "code",
   "execution_count": null,
   "id": "c64700d3",
   "metadata": {},
   "outputs": [],
   "source": []
  },
  {
   "cell_type": "markdown",
   "id": "f11019b8",
   "metadata": {},
   "source": [
    "#Ans6.)\n",
    "\n",
    "Windows functions are used to perform calculations across a set of rows that are related to the current row.\n",
    ".Types of windows functions:\n",
    "\n",
    ".Rolling\n",
    "\n",
    ".Expanding\n",
    "\n",
    ".EWM (Exponential Weighted Functions)"
   ]
  },
  {
   "cell_type": "code",
   "execution_count": null,
   "id": "0fa9223f",
   "metadata": {},
   "outputs": [],
   "source": []
  },
  {
   "cell_type": "code",
   "execution_count": 9,
   "id": "50cba7a5",
   "metadata": {},
   "outputs": [
    {
     "name": "stdout",
     "output_type": "stream",
     "text": [
      "Current month and year: March 2024\n"
     ]
    },
    {
     "name": "stderr",
     "output_type": "stream",
     "text": [
      "C:\\Users\\dell\\AppData\\Local\\Temp\\ipykernel_18488\\2005757250.py:3: FutureWarning: The pandas.datetime class is deprecated and will be removed from pandas in a future version. Import from datetime module instead.\n",
      "  current_date = pd.datetime.now()\n"
     ]
    }
   ],
   "source": [
    "#Ans7.)\n",
    "\n",
    "current_date = pd.datetime.now()\n",
    "print(\"Current month and year:\", current_date.strftime('%B %Y'))"
   ]
  },
  {
   "cell_type": "code",
   "execution_count": null,
   "id": "1bb63603",
   "metadata": {},
   "outputs": [],
   "source": []
  },
  {
   "cell_type": "code",
   "execution_count": 13,
   "id": "7f6dbba3",
   "metadata": {},
   "outputs": [
    {
     "name": "stdout",
     "output_type": "stream",
     "text": [
      "Enter the first date (YYYY-MM-DD): 2002-04-04\n",
      "Enter the second date (YYYY-MM-DD): 2024-04-04\n",
      "Difference between the dates (days, hours, minutes): 8036 days, 0 hours, 0 minutes.\n"
     ]
    }
   ],
   "source": [
    "#Ans8.)\n",
    "\n",
    "date1 = pd.to_datetime(input(\"Enter the first date (YYYY-MM-DD): \"))\n",
    "date2 = pd.to_datetime(input(\"Enter the second date (YYYY-MM-DD): \"))\n",
    "date_difference = date2 - date1\n",
    "print(\"Difference between the dates (days, hours, minutes):\", date_difference.days, \"days,\", date_difference.seconds // 3600, \"hours,\", (date_difference.seconds // 60) % 60, \"minutes.\")"
   ]
  },
  {
   "cell_type": "code",
   "execution_count": null,
   "id": "c14e5e38",
   "metadata": {},
   "outputs": [],
   "source": []
  },
  {
   "cell_type": "code",
   "execution_count": null,
   "id": "f99798d1",
   "metadata": {},
   "outputs": [],
   "source": [
    "#Ans9.)\n",
    "\n",
    "def convert_to_categorical(file_path, column_name, category_order):\n",
    "    # Read the CSV file\n",
    "    df = pd.read_csv(file_path)\n",
    "    \n",
    "    # Convert specified column to categorical data type with specified category order\n",
    "    df[column_name] = pd.Categorical(df[column_name], categories=category_order, ordered=True)\n",
    "    \n",
    "    # Sort the data by the specified column\n",
    "    sorted_data = df.sort_values(by=column_name)\n",
    "    \n",
    "    # Display the sorted data\n",
    "    print(\"Sorted Data:\")\n",
    "    print(sorted_data)\n",
    "\n",
    "# Example usage:\n",
    "file_path = input(\"Enter the file path: \")\n",
    "column_name = input(\"Enter the column name to convert to categorical: \")\n",
    "category_order = input(\"Enter the category order (comma-separated): \").split(',')\n",
    "convert_to_categorical(file_path, column_name, category_order)"
   ]
  },
  {
   "cell_type": "code",
   "execution_count": null,
   "id": "0191937e",
   "metadata": {},
   "outputs": [],
   "source": []
  },
  {
   "cell_type": "code",
   "execution_count": null,
   "id": "dedfb52c",
   "metadata": {},
   "outputs": [],
   "source": [
    "#Ans10.)\n",
    "\n",
    "import matplotlib.pyplot as plt\n",
    "\n",
    "def visualize_sales_data(file_path):\n",
    "    # Read the CSV file\n",
    "    df = pd.read_csv(file_path)\n",
    "    \n",
    "    # Convert 'Date' column to datetime type\n",
    "    df['Date'] = pd.to_datetime(df['Date'])\n",
    "    \n",
    "    # Extract year and month from 'Date' column\n",
    "    df['Year'] = df['Date'].dt.year\n",
    "    df['Month'] = df['Date'].dt.month_name()\n",
    "    \n",
    "    # Group by 'Year', 'Month', and 'Product Category', and sum the sales\n",
    "    sales_data = df.groupby(['Year', 'Month', 'Product Category']).sum().reset_index()\n",
    "    \n",
    "    # Pivot the data for plotting\n",
    "    sales_pivot = sales_data.pivot_table(index=['Year', 'Month'], columns='Product Category', values='Sales', fill_value=0)\n",
    "    \n",
    "    # Plot stacked bar chart\n",
    "    sales_pivot.plot(kind='bar', stacked=True, figsize=(10, 6))\n",
    "    plt.title('Sales of Each Product Category Over Time')\n",
    "    plt.xlabel('Year-Month')\n",
    "    plt.ylabel('Sales')\n",
    "    plt.xticks(rotation=45)\n",
    "    plt.legend(title='Product Category')\n",
    "    plt.show()\n"
   ]
  },
  {
   "cell_type": "code",
   "execution_count": null,
   "id": "2c3eec83",
   "metadata": {},
   "outputs": [],
   "source": []
  },
  {
   "cell_type": "code",
   "execution_count": null,
   "id": "12056b64",
   "metadata": {},
   "outputs": [],
   "source": [
    "#Ans11.)\n",
    "\n",
    "\n",
    "import pandas as pd\n",
    "\n",
    "# Function to calculate mean, median, and mode of test scores and display results in a table\n",
    "def calculate_and_display_stats(file_path):\n",
    "    # Read the CSV file into a Pandas DataFrame\n",
    "    df = pd.read_csv(file_path)\n",
    "    \n",
    "    # Calculate mean, median, and mode of test scores\n",
    "    mean_score = df['Test Score'].mean()\n",
    "    median_score = df['Test Score'].median()\n",
    "    mode_score = df['Test Score'].mode()[0]  # Mode may return multiple values, selecting the first one\n",
    "    \n",
    "    # Create a DataFrame to display results\n",
    "    stats_df = pd.DataFrame({\n",
    "        'Statistic': ['Mean', 'Median', 'Mode'],\n",
    "        'Test Score': [mean_score, median_score, mode_score]\n",
    "    })\n",
    "    \n",
    "    # Display the results\n",
    "    print(\"Statistics of Test Scores:\")\n",
    "    print(stats_df)\n",
    "\n",
    "# Prompt the user to enter the file path\n",
    "file_path = input(\"Enter the file path of the CSV file: \")\n",
    "\n",
    "# Call the function to calculate and display statistics\n",
    "calculate_and_display_stats(file_path)\n"
   ]
  },
  {
   "cell_type": "code",
   "execution_count": null,
   "id": "b566f13f",
   "metadata": {},
   "outputs": [],
   "source": []
  }
 ],
 "metadata": {
  "kernelspec": {
   "display_name": "Python 3 (ipykernel)",
   "language": "python",
   "name": "python3"
  },
  "language_info": {
   "codemirror_mode": {
    "name": "ipython",
    "version": 3
   },
   "file_extension": ".py",
   "mimetype": "text/x-python",
   "name": "python",
   "nbconvert_exporter": "python",
   "pygments_lexer": "ipython3",
   "version": "3.11.4"
  }
 },
 "nbformat": 4,
 "nbformat_minor": 5
}
